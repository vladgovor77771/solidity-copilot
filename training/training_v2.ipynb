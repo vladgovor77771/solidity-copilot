{
 "cells": [
  {
   "cell_type": "code",
   "execution_count": 1,
   "metadata": {},
   "outputs": [
    {
     "name": "stdout",
     "output_type": "stream",
     "text": [
      "using cuda\n"
     ]
    },
    {
     "name": "stderr",
     "output_type": "stream",
     "text": [
      "/home/stepan/.local/lib/python3.10/site-packages/tqdm/auto.py:22: TqdmWarning: IProgress not found. Please update jupyter and ipywidgets. See https://ipywidgets.readthedocs.io/en/stable/user_install.html\n",
      "  from .autonotebook import tqdm as notebook_tqdm\n"
     ]
    }
   ],
   "source": [
    "import torch\n",
    "\n",
    "device = 'cuda' if torch.cuda.is_available() else 'cpu'\n",
    "print('using', device)\n",
    "torch.cuda.empty_cache()"
   ]
  },
  {
   "cell_type": "code",
   "execution_count": 2,
   "metadata": {},
   "outputs": [],
   "source": [
    "from datasets import Dataset\n",
    "\n",
    "ds = Dataset.load_from_disk('../dataset')"
   ]
  },
  {
   "cell_type": "code",
   "execution_count": 3,
   "metadata": {},
   "outputs": [
    {
     "data": {
      "text/plain": [
       "Dataset({\n",
       "    features: ['text'],\n",
       "    num_rows: 856323\n",
       "})"
      ]
     },
     "execution_count": 3,
     "metadata": {},
     "output_type": "execute_result"
    }
   ],
   "source": [
    "ds"
   ]
  },
  {
   "cell_type": "code",
   "execution_count": 5,
   "metadata": {},
   "outputs": [],
   "source": [
    "from transformers import AutoTokenizer, T5ForConditionalGeneration, TrainingArguments, DataCollatorForLanguageModeling, Trainer\n",
    "from datasets import Dataset\n",
    "import evaluate\n",
    "from itertools import chain\n",
    "import logging\n",
    "import numpy as np\n",
    "\n",
    "logging.getLogger(\n",
    "    \"transformers.tokenization_utils_base\").setLevel(logging.ERROR)\n",
    "\n",
    "\n",
    "def tokenize_function(tokenizer):\n",
    "    def f(item):\n",
    "        return tokenizer(item['text'], return_tensors=\"pt\", padding=True)\n",
    "\n",
    "    return f\n",
    "\n",
    "\n",
    "BLOCK_SIZE = 512\n",
    "\n",
    "\n",
    "def group_texts(examples):\n",
    "    # Concatenate all texts.\n",
    "    concatenated_examples = {\n",
    "        k: list(chain(*examples[k])) for k in examples.keys()}\n",
    "    total_length = len(concatenated_examples[list(examples.keys())[0]])\n",
    "    # We drop the small remainder, we could add padding if the model supported it instead of this drop, you can\n",
    "    # customize this part to your needs.\n",
    "    if total_length >= BLOCK_SIZE:\n",
    "        total_length = (total_length // BLOCK_SIZE) * BLOCK_SIZE\n",
    "    # Split by chunks of max_len.\n",
    "    result = {\n",
    "        k: [t[i: i + BLOCK_SIZE] for i in range(0, total_length, BLOCK_SIZE)]\n",
    "        for k, t in concatenated_examples.items()\n",
    "    }\n",
    "    return result\n",
    "\n",
    "\n",
    "def prepare_segment(tokenizer: AutoTokenizer, full_ds: Dataset, segment_size: int, segment_i: int):\n",
    "    segment_ds = Dataset.from_dict(\n",
    "        full_ds[segment_i * segment_size:(segment_i + 1) * segment_size])\n",
    "\n",
    "    return segment_ds.map(\n",
    "        tokenize_function(tokenizer),\n",
    "        remove_columns='text',\n",
    "        batched=True,\n",
    "        batch_size=5,\n",
    "        num_proc=6,\n",
    "        keep_in_memory=True,\n",
    "        desc=f'Segment #{id} | Tokenizing'\n",
    "    ).map(\n",
    "        group_texts,\n",
    "        batched=True,\n",
    "        batch_size=5,\n",
    "        num_proc=6,\n",
    "        keep_in_memory=True,\n",
    "        desc=f'Segment #{id} | Grouping into batches'\n",
    "    )\n",
    "\n",
    "\n",
    "def compute_metrics(eval_preds):\n",
    "    metric = evaluate.load(\"glue\", \"mrpc\")\n",
    "    logits, labels = eval_preds\n",
    "    predictions = np.argmax(logits, axis=-1)\n",
    "    return metric.compute(predictions=predictions, references=labels)\n",
    "\n",
    "\n",
    "def train(checkpoint: str, ds: Dataset, segment_size: int, segment_i: int, meta_i: int, device):\n",
    "    tokenizer = AutoTokenizer.from_pretrained(checkpoint)\n",
    "    model = T5ForConditionalGeneration.from_pretrained(checkpoint).to(device)\n",
    "\n",
    "    segment_ds_tokenized = prepare_segment(\n",
    "        tokenizer, ds, segment_size, segment_i).train_test_split(0.05)\n",
    "\n",
    "    training_args = TrainingArguments(\n",
    "        output_dir=f'./results/meta-epoch-{meta_i}/segment-{segment_i}',\n",
    "        num_train_epochs=5,\n",
    "        per_device_train_batch_size=1,\n",
    "        per_device_eval_batch_size=1,\n",
    "        warmup_steps=500,\n",
    "        save_steps=50000,\n",
    "        weight_decay=0.01,\n",
    "        logging_dir=f'./logs/meta-epoch-{meta_i}/segment-{segment_i}',\n",
    "        logging_steps=10,\n",
    "        evaluation_strategy='epoch',\n",
    "        fp16=True,\n",
    "        learning_rate=1e-5\n",
    "    )\n",
    "\n",
    "    data_collator = DataCollatorForLanguageModeling(\n",
    "        tokenizer=tokenizer, mlm=True, mlm_probability=0.15)\n",
    "\n",
    "    trainer = Trainer(\n",
    "        model=model,\n",
    "        args=training_args,\n",
    "        train_dataset=segment_ds_tokenized[\"train\"],\n",
    "        eval_dataset=segment_ds_tokenized[\"test\"],\n",
    "        data_collator=data_collator,\n",
    "        compute_metrics=compute_metrics,\n",
    "\n",
    "    )\n",
    "\n",
    "    trainer.train()"
   ]
  },
  {
   "cell_type": "code",
   "execution_count": 6,
   "metadata": {},
   "outputs": [
    {
     "name": "stderr",
     "output_type": "stream",
     "text": [
      "num_proc must be <= 2. Reducing num_proc to 2 for dataset of size 2.\n",
      "num_proc must be <= 2. Reducing num_proc to 2 for dataset of size 2.                                   \n",
      "                                                                                                                  "
     ]
    },
    {
     "name": "stdout",
     "output_type": "stream",
     "text": [
      "DatasetDict({\n",
      "    train: Dataset({\n",
      "        features: ['input_ids', 'attention_mask'],\n",
      "        num_rows: 6\n",
      "    })\n",
      "    test: Dataset({\n",
      "        features: ['input_ids', 'attention_mask'],\n",
      "        num_rows: 1\n",
      "    })\n",
      "})\n"
     ]
    },
    {
     "name": "stderr",
     "output_type": "stream",
     "text": [
      "\r"
     ]
    }
   ],
   "source": [
    "train('Salesforce/codet5-large', ds, 2, 0, 0, device)"
   ]
  },
  {
   "cell_type": "code",
   "execution_count": 8,
   "metadata": {},
   "outputs": [
    {
     "name": "stderr",
     "output_type": "stream",
     "text": [
      "num_proc must be <= 2. Reducing num_proc to 2 for dataset of size 2.\n",
      "num_proc must be <= 2. Reducing num_proc to 2 for dataset of size 2.                                   \n",
      "                                                                                                                  \r"
     ]
    }
   ],
   "source": [
    "tokenizer = AutoTokenizer.from_pretrained('Salesforce/codet5-large')\n",
    "segment_ds_tokenized = prepare_segment(\n",
    "    tokenizer, ds, 2, 0).train_test_split(0.05)"
   ]
  },
  {
   "cell_type": "code",
   "execution_count": 15,
   "metadata": {},
   "outputs": [
    {
     "data": {
      "text/plain": [
       "512"
      ]
     },
     "execution_count": 15,
     "metadata": {},
     "output_type": "execute_result"
    }
   ],
   "source": [
    "len(segment_ds_tokenized['train'][0]['input_ids'])"
   ]
  },
  {
   "cell_type": "code",
   "execution_count": null,
   "metadata": {},
   "outputs": [],
   "source": []
  }
 ],
 "metadata": {
  "kernelspec": {
   "display_name": "Python 3",
   "language": "python",
   "name": "python3"
  },
  "language_info": {
   "codemirror_mode": {
    "name": "ipython",
    "version": 3
   },
   "file_extension": ".py",
   "mimetype": "text/x-python",
   "name": "python",
   "nbconvert_exporter": "python",
   "pygments_lexer": "ipython3",
   "version": "3.10.6"
  },
  "orig_nbformat": 4,
  "vscode": {
   "interpreter": {
    "hash": "916dbcbb3f70747c44a77c7bcd40155683ae19c65e1c03b4aa3499c5328201f1"
   }
  }
 },
 "nbformat": 4,
 "nbformat_minor": 2
}
