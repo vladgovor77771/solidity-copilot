{
 "cells": [
  {
   "cell_type": "code",
   "execution_count": null,
   "metadata": {},
   "outputs": [],
   "source": [
    "import os\n",
    "os.environ[\"CUDA_DEVICE_ORDER\"] = \"PCI_BUS_ID\"\n",
    "os.environ[\"CUDA_VISIBLE_DEVICES\"] = \"2\""
   ]
  },
  {
   "cell_type": "code",
   "execution_count": 1,
   "metadata": {},
   "outputs": [
    {
     "name": "stderr",
     "output_type": "stream",
     "text": [
      "/home/stepan/anaconda3/envs/sol-copilot/lib/python3.10/site-packages/tqdm/auto.py:22: TqdmWarning: IProgress not found. Please update jupyter and ipywidgets. See https://ipywidgets.readthedocs.io/en/stable/user_install.html\n",
      "  from .autonotebook import tqdm as notebook_tqdm\n"
     ]
    },
    {
     "data": {
      "text/plain": [
       "2"
      ]
     },
     "execution_count": 1,
     "metadata": {},
     "output_type": "execute_result"
    }
   ],
   "source": [
    "import torch\n",
    "\n",
    "device = torch.device('cuda:2')\n",
    "torch.cuda.set_device(2)\n",
    "torch.cuda.current_device()"
   ]
  },
  {
   "cell_type": "code",
   "execution_count": 2,
   "metadata": {},
   "outputs": [],
   "source": [
    "torch.cuda.empty_cache()"
   ]
  },
  {
   "cell_type": "code",
   "execution_count": 3,
   "metadata": {},
   "outputs": [],
   "source": [
    "from datasets import Dataset\n",
    "\n",
    "ds = Dataset.load_from_disk('/data/solidity-dataset')"
   ]
  },
  {
   "cell_type": "code",
   "execution_count": 4,
   "metadata": {},
   "outputs": [
    {
     "data": {
      "text/plain": [
       "Dataset({\n",
       "    features: ['text'],\n",
       "    num_rows: 856323\n",
       "})"
      ]
     },
     "execution_count": 4,
     "metadata": {},
     "output_type": "execute_result"
    }
   ],
   "source": [
    "ds"
   ]
  },
  {
   "cell_type": "code",
   "execution_count": 5,
   "metadata": {},
   "outputs": [],
   "source": [
    "from transformers import AutoTokenizer, T5ForConditionalGeneration, TrainingArguments, DataCollatorForLanguageModeling, Trainer\n",
    "from datasets import Dataset\n",
    "import evaluate\n",
    "from itertools import chain\n",
    "import logging\n",
    "import numpy as np\n",
    "\n",
    "logging.getLogger(\n",
    "    \"transformers.tokenization_utils_base\").setLevel(logging.ERROR)\n",
    "\n",
    "\n",
    "def tokenize_function(tokenizer):\n",
    "    def f(item):\n",
    "        return tokenizer(item['text'], return_tensors=\"pt\", padding=True)\n",
    "\n",
    "    return f\n",
    "\n",
    "\n",
    "BLOCK_SIZE = 512\n",
    "\n",
    "\n",
    "def group_texts(examples):\n",
    "    # Concatenate all texts.\n",
    "    concatenated_examples = {\n",
    "        k: list(chain(*examples[k])) for k in examples.keys()}\n",
    "    total_length = len(concatenated_examples[list(examples.keys())[0]])\n",
    "    # We drop the small remainder, we could add padding if the model supported it instead of this drop, you can\n",
    "    # customize this part to your needs.\n",
    "    if total_length >= BLOCK_SIZE:\n",
    "        total_length = (total_length // BLOCK_SIZE) * BLOCK_SIZE\n",
    "    # Split by chunks of max_len.\n",
    "    result = {\n",
    "        k: [t[i: i + BLOCK_SIZE] for i in range(0, total_length, BLOCK_SIZE)]\n",
    "        for k, t in concatenated_examples.items()\n",
    "    }\n",
    "    return result\n",
    "\n",
    "\n",
    "def prepare_segment(tokenizer: AutoTokenizer, full_ds: Dataset, segment_size: int, segment_i: int):\n",
    "    segment_ds = Dataset.from_dict(\n",
    "        full_ds[segment_i * segment_size:(segment_i + 1) * segment_size])\n",
    "\n",
    "    return segment_ds.map(\n",
    "        tokenize_function(tokenizer),\n",
    "        remove_columns='text',\n",
    "        batched=True,\n",
    "        batch_size=5,\n",
    "        num_proc=6,\n",
    "        cache_file_name=f'/data/solidity-cache/seg_{segment_i}_tokenize_map_cache.cache',\n",
    "        load_from_cache_file=True,\n",
    "        desc=f'Segment #{segment_i} | Tokenizing'\n",
    "    ).map(\n",
    "        group_texts,\n",
    "        batched=True,\n",
    "        batch_size=5,\n",
    "        num_proc=6,\n",
    "        drop_last_batch=True,\n",
    "        cache_file_name=f'/data/solidity-cache/seg_{segment_i}_group_map_cache.cache',\n",
    "        load_from_cache_file=True,\n",
    "        desc=f'Segment #{segment_i} | Grouping into batches'\n",
    "    )\n",
    "\n",
    "\n",
    "def compute_metrics(eval_preds):\n",
    "    metric = evaluate.load(\"glue\", \"mrpc\")\n",
    "    logits, labels = eval_preds\n",
    "    predictions = np.argmax(logits, axis=-1)\n",
    "    return metric.compute(predictions=predictions, references=labels)\n",
    "\n",
    "\n",
    "def train(model, tokenizer, ds: Dataset, segment_size: int, segment_i: int, meta_i: int):\n",
    "    segment_ds_tokenized = prepare_segment(\n",
    "        tokenizer, ds, segment_size, segment_i).train_test_split(0.05)\n",
    "\n",
    "    training_args = TrainingArguments(\n",
    "        output_dir=f'./results/meta-epoch-{meta_i}/segment-{segment_i}',\n",
    "        num_train_epochs=1,\n",
    "        per_device_train_batch_size=2,\n",
    "        per_device_eval_batch_size=2,\n",
    "        warmup_steps=500,\n",
    "        save_steps=50000,\n",
    "        weight_decay=0.01,\n",
    "        logging_dir=f'./logs/meta-epoch-{meta_i}/segment-{segment_i}',\n",
    "        logging_steps=10,\n",
    "        evaluation_strategy='epoch',\n",
    "        fp16=True,\n",
    "        learning_rate=1e-5\n",
    "    )\n",
    "\n",
    "    data_collator = DataCollatorForLanguageModeling(\n",
    "        tokenizer=tokenizer, mlm=True, mlm_probability=0.15)\n",
    "\n",
    "    trainer = Trainer(\n",
    "        model=model,\n",
    "        args=training_args,\n",
    "        train_dataset=segment_ds_tokenized[\"train\"],\n",
    "        eval_dataset=segment_ds_tokenized[\"test\"],\n",
    "        data_collator=data_collator,\n",
    "        compute_metrics=compute_metrics,\n",
    "    )\n",
    "\n",
    "    trainer.train()"
   ]
  },
  {
   "cell_type": "code",
   "execution_count": 6,
   "metadata": {},
   "outputs": [],
   "source": [
    "tokenizer = AutoTokenizer.from_pretrained('Salesforce/codet5-large')\n",
    "model = T5ForConditionalGeneration.from_pretrained('Salesforce/codet5-large').to(device)"
   ]
  },
  {
   "cell_type": "code",
   "execution_count": 7,
   "metadata": {},
   "outputs": [],
   "source": [
    "SEGMENT_SIZE = 10000"
   ]
  },
  {
   "cell_type": "code",
   "execution_count": 8,
   "metadata": {},
   "outputs": [
    {
     "data": {
      "text/html": [
       "\n",
       "    <div>\n",
       "      \n",
       "      <progress value='7' max='38900' style='width:300px; height:20px; vertical-align: middle;'></progress>\n",
       "      [    7/38900 00:18 < 40:30:13, 0.27 it/s, Epoch 0.00/1]\n",
       "    </div>\n",
       "    <table border=\"1\" class=\"dataframe\">\n",
       "  <thead>\n",
       " <tr style=\"text-align: left;\">\n",
       "      <th>Epoch</th>\n",
       "      <th>Training Loss</th>\n",
       "      <th>Validation Loss</th>\n",
       "    </tr>\n",
       "  </thead>\n",
       "  <tbody>\n",
       "  </tbody>\n",
       "</table><p>"
      ],
      "text/plain": [
       "<IPython.core.display.HTML object>"
      ]
     },
     "metadata": {},
     "output_type": "display_data"
    }
   ],
   "source": [
    "train(model, tokenizer, ds, SEGMENT_SIZE, 0, 0)"
   ]
  },
  {
   "cell_type": "code",
   "execution_count": null,
   "metadata": {},
   "outputs": [],
   "source": []
  }
 ],
 "metadata": {
  "kernelspec": {
   "display_name": "sol-copilot",
   "language": "python",
   "name": "python3"
  },
  "language_info": {
   "codemirror_mode": {
    "name": "ipython",
    "version": 3
   },
   "file_extension": ".py",
   "mimetype": "text/x-python",
   "name": "python",
   "nbconvert_exporter": "python",
   "pygments_lexer": "ipython3",
   "version": "3.10.9"
  },
  "orig_nbformat": 4,
  "vscode": {
   "interpreter": {
    "hash": "4c07a3aedc57af4aeb747785d4825445117f017367f17db7fd43d4001c84d658"
   }
  }
 },
 "nbformat": 4,
 "nbformat_minor": 2
}
